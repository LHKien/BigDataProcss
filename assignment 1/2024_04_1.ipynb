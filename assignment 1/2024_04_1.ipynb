{
  "nbformat": 4,
  "nbformat_minor": 0,
  "metadata": {
    "colab": {
      "provenance": []
    },
    "kernelspec": {
      "name": "python3",
      "display_name": "Python 3"
    },
    "language_info": {
      "name": "python"
    }
  },
  "cells": [
    {
      "cell_type": "code",
      "execution_count": null,
      "metadata": {
        "colab": {
          "base_uri": "https://localhost:8080/"
        },
        "id": "jjL0rOWFRxIR",
        "outputId": "8d0723d7-733f-4765-c7d6-6abeaa5c2a91"
      },
      "outputs": [
        {
          "output_type": "stream",
          "name": "stdout",
          "text": [
            "15911113788788462562811458163469829149250368011467670422973683085659783110180842861112891956637462061747296151807573279232032627256348370786928936663690931772585996539083889171496064921816842815\n",
            "times3 = 27, times5 = 20 , times7 = 17\n",
            "others = 50\n"
          ]
        }
      ],
      "source": [
        "#Version 1\n",
        "import random\n",
        "times3 = 0\n",
        "times5 = 0\n",
        "times7 = 0\n",
        "others = 0\n",
        "for i in range(1,101):\n",
        "  flag = False\n",
        "  randNum = random.randint(1,101)\n",
        "  print(randNum,end='')\n",
        "  if randNum % 3 == 0:\n",
        "    times3 += 1\n",
        "    flag = True\n",
        "  if randNum % 5 == 0:\n",
        "    times5 += 1\n",
        "    flag = True\n",
        "  if randNum % 7 == 0:\n",
        "    times7 +=1\n",
        "    flag = True\n",
        "  if flag == False:\n",
        "    others += 1\n",
        "print('\\ntimes3 = %d, times5 = %d , times7 = %d'%(times3,times5,times7))\n",
        "print('others = %d'%(others))"
      ]
    },
    {
      "cell_type": "code",
      "source": [
        "count = 1\n",
        "for i in range(1,101):\n",
        "  randNum=random . randint(1,100)\n",
        "  if count % 10 !=0:\n",
        "    print('%5d'%(randNum),end = '')\n",
        "  else:\n",
        "    print('%5d'%(randNum))\n",
        "  count += 1"
      ],
      "metadata": {
        "colab": {
          "base_uri": "https://localhost:8080/"
        },
        "id": "c8lw0kEPUsuZ",
        "outputId": "4e5351f1-2f58-418e-e892-5b23d62fa18e"
      },
      "execution_count": null,
      "outputs": [
        {
          "output_type": "stream",
          "name": "stdout",
          "text": [
            "   52   23   79   27    2   34   62   34   59   46\n",
            "   85   99  100   62   39   57  100   86    3   16\n",
            "   16   96   38   19   54    9   76   20   61   25\n",
            "   20   92   57   78   23   13   31   41   30   91\n",
            "   16   93   52   20   16   63   32   43   68   41\n",
            "   22   89   31   33   39   49    9   85   55   52\n",
            "    4   18  100    8   23   85   17   89   10   36\n",
            "   20   52   73  100   18    5   98   15   89   29\n",
            "   24   88   88   65    4   45   24   16   40    4\n",
            "   28   17  100   39   61   79   59   82   55   29\n"
          ]
        }
      ]
    },
    {
      "cell_type": "code",
      "source": [],
      "metadata": {
        "id": "h2vzH8DTa6Pn"
      },
      "execution_count": null,
      "outputs": []
    }
  ]
}