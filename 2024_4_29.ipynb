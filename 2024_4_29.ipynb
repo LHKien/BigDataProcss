{
  "nbformat": 4,
  "nbformat_minor": 0,
  "metadata": {
    "colab": {
      "provenance": []
    },
    "kernelspec": {
      "name": "python3",
      "display_name": "Python 3"
    },
    "language_info": {
      "name": "python"
    }
  },
  "cells": [
    {
      "cell_type": "code",
      "execution_count": 7,
      "metadata": {
        "colab": {
          "base_uri": "https://localhost:8080/"
        },
        "id": "AltmhyJU0pai",
        "outputId": "0188d4ea-37d7-4fcd-c1a6-bf001550d30e"
      },
      "outputs": [
        {
          "output_type": "stream",
          "name": "stdout",
          "text": [
            "  45  36  16  59  31  98  89  53  37  58"
          ]
        }
      ],
      "source": [
        "import random\n",
        "for i in range (1,11):\n",
        "  randNum = random.randint(1,100)\n",
        "  print('%4d'%(randNum),end = '')"
      ]
    },
    {
      "cell_type": "code",
      "source": [
        "import random\n",
        "even=0\n",
        "odd=0\n",
        "for i in range(1,11):\n",
        "  randNum = random.randint(1,100)\n",
        "  print(randNum,end='')\n",
        "  if randNum % 2==0:\n",
        "    even +=1\n",
        "  else:\n",
        "    odd +=1\n",
        "print('\\neven= %d, odd = %d'%(even,odd))"
      ],
      "metadata": {
        "colab": {
          "base_uri": "https://localhost:8080/"
        },
        "id": "S6rhga3S1RSX",
        "outputId": "c93e8905-82cf-4b32-ed0e-d91e8952bb97"
      },
      "execution_count": 12,
      "outputs": [
        {
          "output_type": "stream",
          "name": "stdout",
          "text": [
            "61498425457390245763\n",
            "even= 3, odd = 7\n"
          ]
        }
      ]
    },
    {
      "cell_type": "code",
      "source": [
        "#Version 1\n",
        "import random\n",
        "times3=0\n",
        "times5=0\n",
        "times7=0\n",
        "others=0\n",
        "for i in range(1,101):\n",
        "  flag = False\n",
        "  randNum = random.randint(1,100)\n",
        "  print(randNum, end = '')\n",
        "  if randNum % 3 == 0:\n",
        "    times3+=1\n",
        "    flag = True\n",
        "  if randNum % 5 == 0:\n",
        "    times5 += 1\n",
        "    flag = True\n",
        "  if randNum % 7 == 0 :\n",
        "    times7 += 1\n",
        "    flag = True\n",
        "  if flag == False:\n",
        "    others += 1\n",
        "print('\\ntimes3 = %d, times5 = %d , times7 = %d'%(times3,times5,times7))\n",
        "print('others = %d'%(others))"
      ],
      "metadata": {
        "colab": {
          "base_uri": "https://localhost:8080/"
        },
        "id": "ByOW_eIa6_VB",
        "outputId": "c3d12d18-dcc2-49cc-dbb1-a5fd95f529be"
      },
      "execution_count": 13,
      "outputs": [
        {
          "output_type": "stream",
          "name": "stdout",
          "text": [
            "987456681456493493514867776553195363480258730149917886043845271436545631339954749171490808641732993401050851057718270225415762701364822531545190926399557763115259318817482511775184572331376725\n",
            "times3 = 26, times5 = 25 , times7 = 18\n",
            "others = 43\n"
          ]
        }
      ]
    }
  ]
}